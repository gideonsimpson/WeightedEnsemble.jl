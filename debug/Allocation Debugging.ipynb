{
 "cells": [
  {
   "cell_type": "code",
   "execution_count": null,
   "id": "5b792e2e-e497-4e6f-9d9d-5ea783701c78",
   "metadata": {},
   "outputs": [],
   "source": [
    "using Plots\n",
    "using Random\n",
    "using LinearAlgebra\n",
    "using ForwardDiff\n",
    "\n",
    "using WeightedEnsemble\n",
    "using TestLandscapes\n",
    "using BasicMD\n",
    "using JLD2"
   ]
  },
  {
   "cell_type": "code",
   "execution_count": null,
   "id": "50ef6a86-c33b-401b-b66b-4fba992699a4",
   "metadata": {},
   "outputs": [],
   "source": [
    "Δb = 0.2\n",
    "n_particles = 10^5;\n",
    "seed = 100;\n",
    "β = 10.0    # inverse temperature\n",
    "b = 0.5 # target set [b, ∞)\n",
    "x0 = [-1.0] # starting point\n",
    "\n",
    "T = 4 # terminal time\n",
    "\n",
    "\n",
    "Δt = 1e-2  # time step\n",
    "nΔt = Int(T / Δt)\n",
    "ΔT_recycle = 1e-2\n",
    "nΔt_recycle = Int(ΔT_recycle / Δt) # number of time steps before applying recycler\n",
    "nΔt_coarse = 1 * nΔt_recycle # number of time steps in a coarse step\n",
    "@show n_we_steps = nΔt ÷ (nΔt_coarse);\n",
    "\n",
    "x_voronoi = [[x - 0.5 * Δb] for x in -1.7:Δb:0.5+Δb]\n",
    "n_bins = length(x_voronoi)\n",
    "\n",
    "@show T;\n",
    "@show Δt;\n",
    "@show β;\n",
    "@show n_particles;\n",
    "@show Δb;\n",
    "@show n_bins;\n",
    "@show x_voronoi;"
   ]
  },
  {
   "cell_type": "code",
   "execution_count": null,
   "id": "f632653f-7ac5-45e2-85bc-c3b76e9f6cee",
   "metadata": {},
   "outputs": [],
   "source": [
    "V = x -> SymmetricDoubleWell(x[1]);\n",
    "cfg = ForwardDiff.GradientConfig(V, zeros(Float64, 1));\n",
    "∇V! = (gradV, X) -> ForwardDiff.gradient!(gradV, V, X, cfg);\n",
    "\n",
    "fB = X -> Float64(X[1] > b);\n",
    "\n",
    "sampler = EM(∇V!, β, Δt);\n",
    "\n",
    "function restartA!(state::BasicMD.EMState)\n",
    "    if (state.x[1] > b)\n",
    "        @. state.x = x0\n",
    "        ∇V!(state.∇V, x0)\n",
    "    end\n",
    "    state\n",
    "end\n",
    "constraints = Constraints(restartA!, trivial_constraint!, nΔt_recycle, nΔt_coarse);\n",
    "mutation_opts = MDOptions(n_iters=nΔt_coarse, n_save_iters=nΔt_coarse);\n",
    "\n",
    "mutation! = X -> sample_trajectory!(X, sampler, constraints, options=mutation_opts);\n",
    "\n",
    "B0, bin_id, rebin! = setup_Voronoi_bins(x_voronoi);\n",
    "E0 = Dirac_to_Ensemble(x0, n_particles)\n",
    "rebin!(E0, B0, 0);\n"
   ]
  },
  {
   "cell_type": "code",
   "execution_count": null,
   "id": "8cdab782-2734-4d4f-a31b-2b99ad184550",
   "metadata": {},
   "outputs": [],
   "source": [
    "B0.Ω"
   ]
  },
  {
   "cell_type": "code",
   "execution_count": null,
   "id": "b954ce62-b8d5-4791-86f4-dacb40fdab27",
   "metadata": {},
   "outputs": [],
   "source": [
    "data = jldopen(\"trivial_debug_309.jld2\");\n",
    "E = data[\"E\"]\n",
    "B = data[\"B\"]"
   ]
  },
  {
   "cell_type": "code",
   "execution_count": null,
   "id": "bfdf1519-23c7-4de0-a431-2d941c2edaa3",
   "metadata": {},
   "outputs": [],
   "source": [
    "@show sum(E.ω);\n",
    "@show sum(B.ν);\n",
    "@show B.ν[1:4];\n",
    "@show B.n[1:4];"
   ]
  },
  {
   "cell_type": "code",
   "execution_count": null,
   "id": "290ec9e3-c543-4398-9f43-0cebc8c6d423",
   "metadata": {},
   "outputs": [],
   "source": [
    "histogram([x_[1] for x_ in E.ξ], label=\"Walkers\")\n",
    "title!(\"Unweighted Walker Distribution\")\n",
    "xlabel!(\"x\")"
   ]
  },
  {
   "cell_type": "code",
   "execution_count": null,
   "id": "c8071d00-0db7-4456-86ca-a1e50ee8ecfd",
   "metadata": {},
   "outputs": [],
   "source": [
    "# E_ = deepcopy(E);\n",
    "# B_ = deepcopy(B);\n",
    "# E_, B_ = uniform_selection!(E_, B_, 0);"
   ]
  },
  {
   "cell_type": "code",
   "execution_count": null,
   "id": "60a5bc62-c032-4b8f-87f4-d9320d5de5fc",
   "metadata": {},
   "outputs": [],
   "source": [
    "sum(E.ω̂[findall(E.b̂ .==1)])"
   ]
  },
  {
   "cell_type": "code",
   "execution_count": null,
   "id": "c5034e31-8867-46af-bedc-1f0bc88cfa67",
   "metadata": {},
   "outputs": [],
   "source": [
    "E_ = deepcopy(E);\n",
    "B_ = deepcopy(B);\n",
    "rebin!(E_, B_, 0)\n",
    "@. E_.o = 0;\n",
    "@. B_.target = 0;\n",
    "minimal_bin_allocation!(B_)\n",
    "n_particles = length(E_)\n",
    "# number of remaining particles to allocate\n",
    "n_allocate = n_particles - sum(B_.target);\n",
    "@show n_allocate;\n",
    "uniform_bin_allocation!(B_, E_, n_allocate, \n",
    "    allocation_resampler = WeightedEnsemble.systematic);\n",
    "within_bin_allocation!(E_, B_, within_bin_resampler = WeightedEnsemble.multinomial);\n",
    "particle_ids = findall(isequal(1), E_.b);\n",
    "@show length(E_.o[particle_ids]);\n",
    "@show E_.o[particle_ids];\n",
    "\n",
    "\n",
    "@show B_.target[1:4];\n",
    "@show B_.ν[1];\n",
    "@show B_.ν[1] / B_.target[1];\n",
    "repopulate!(E_, B_);\n",
    "copy!(E_.ω, E_.ω̂);\n",
    "@. E_.ξ = deepcopy(E_.ξ̂);\n",
    "\n",
    "rebin!(E_, B_, 0);\n",
    "\n",
    "\n",
    "particle_ids = findall(isequal(1), E_.b);\n",
    "\n",
    "# @show E_.ω̂[particle_ids[1:10]];\n",
    "# @show B_.target[1:4];\n",
    " @show E_.ω[particle_ids[1:10]];\n",
    "@show B_.ν[1];\n",
    "# @xhow E.ω[particle_ids] / B.ν[p]\n",
    "\n",
    "# ensure each nonempty bin has at least one particle\n",
    "# WeightedEnsemble.minimal_bin_allocation!(B_)\n",
    "# n_particles = length(E_)\n",
    "# number of remaining particles to allocate\n",
    "# n_allocate = n_particles - sum(B_.target)\n"
   ]
  },
  {
   "cell_type": "code",
   "execution_count": null,
   "id": "d2331f66-84fc-4ca8-bd7a-72d0b42770ab",
   "metadata": {
    "tags": []
   },
   "outputs": [],
   "source": [
    "E_.ω[findall(E_.b .== 1)]"
   ]
  },
  {
   "cell_type": "code",
   "execution_count": null,
   "id": "7582bdf0-c4b0-4074-aa47-53738eef34bc",
   "metadata": {
    "tags": []
   },
   "outputs": [],
   "source": [
    "B_.ν"
   ]
  },
  {
   "cell_type": "code",
   "execution_count": null,
   "id": "08bfa1d4-ac87-450e-83bf-2a9c97ca91d2",
   "metadata": {},
   "outputs": [],
   "source": [
    "uniform_bin_allocation!(B_, E_, n_allocate, allocation_resampler = WeightedEnsemble.systematic)"
   ]
  },
  {
   "cell_type": "code",
   "execution_count": null,
   "id": "11074f89-4ff4-45d2-9308-9afabadd3239",
   "metadata": {},
   "outputs": [],
   "source": [
    "sum(B_.target)"
   ]
  },
  {
   "cell_type": "code",
   "execution_count": null,
   "id": "fc9316ee-3c85-4726-b0e6-89380a5a7cb9",
   "metadata": {},
   "outputs": [],
   "source": [
    "non_empty_bins = findall(n -> n > 0, B_.n)\n"
   ]
  },
  {
   "cell_type": "code",
   "execution_count": null,
   "id": "9a5c89b1-27e7-4a0d-b0e4-1a0db7e2cf85",
   "metadata": {},
   "outputs": [],
   "source": [
    "B_.ν"
   ]
  },
  {
   "cell_type": "code",
   "execution_count": null,
   "id": "2f09c5f5-c529-45c3-8ef8-d07b92cd3741",
   "metadata": {},
   "outputs": [],
   "source": [
    "within_bin_allocation!(E_, B_, within_bin_resampler = WeightedEnsemble.multinomial)\n"
   ]
  }
 ],
 "metadata": {
  "kernelspec": {
   "display_name": "Julia 1.8.5",
   "language": "julia",
   "name": "julia-1.8"
  },
  "language_info": {
   "file_extension": ".jl",
   "mimetype": "application/julia",
   "name": "julia",
   "version": "1.8.5"
  }
 },
 "nbformat": 4,
 "nbformat_minor": 5
}
